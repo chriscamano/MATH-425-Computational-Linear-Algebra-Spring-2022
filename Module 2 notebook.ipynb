{
 "cells": [
  {
   "cell_type": "code",
   "execution_count": 4,
   "id": "7b37fea0",
   "metadata": {},
   "outputs": [],
   "source": [
    "import numpy as np\n",
    "import numpy.linalg as la"
   ]
  },
  {
   "cell_type": "code",
   "execution_count": 6,
   "id": "cc9e32ab",
   "metadata": {},
   "outputs": [],
   "source": [
    "def eigen(A):\n",
    "    w,v=la.eig(a)\n",
    "    print('Eigen-values:', w)\n",
    "    print('E-vectors', v)"
   ]
  },
  {
   "cell_type": "code",
   "execution_count": 15,
   "id": "159e22fe",
   "metadata": {},
   "outputs": [
    {
     "name": "stdout",
     "output_type": "stream",
     "text": [
      "(array([[-0.89442719,  0.4472136 ],\n",
      "       [ 0.4472136 ,  0.89442719]]), array([2.64575131, 1.41421356]), array([[-0.6761234 , -0.50709255,  0.16903085,  0.50709255],\n",
      "       [ 0.63245553, -0.31622777,  0.63245553,  0.31622777],\n",
      "       [-0.36035675,  0.57366534,  0.72071349, -0.14704815],\n",
      "       [ 0.11401824,  0.5601475 , -0.22803648,  0.78818398]]))\n",
      "[[ 4  2  0 -2]\n",
      " [ 2  2 -1 -2]\n",
      " [ 0 -1  1  1]\n",
      " [-2 -2  1  2]]\n",
      "(array([ 7.00000000e+00,  2.00000000e+00,  0.00000000e+00, -4.15071381e-16]), array([[-6.76123404e-01,  6.32455532e-01, -9.89601402e-18,\n",
      "        -3.52760088e-01],\n",
      "       [-5.07092553e-01, -3.16227766e-01,  7.07106781e-01,\n",
      "         6.06652036e-01],\n",
      "       [ 1.69030851e-01,  6.32455532e-01,  1.97920280e-17,\n",
      "         7.05520176e-01],\n",
      "       [ 5.07092553e-01,  3.16227766e-01,  7.07106781e-01,\n",
      "        -9.88681398e-02]]))\n"
     ]
    }
   ],
   "source": [
    "A=np.array(([2,1,0,-1],[0,-1,1,1]))\n",
    "print(la.svd(A))\n",
    "print(A.T@A)\n",
    "print(la.eig(A.T@A))"
   ]
  },
  {
   "cell_type": "code",
   "execution_count": null,
   "id": "6d223fa4",
   "metadata": {},
   "outputs": [],
   "source": []
  }
 ],
 "metadata": {
  "kernelspec": {
   "display_name": "Python 3 (ipykernel)",
   "language": "python",
   "name": "python3"
  },
  "language_info": {
   "codemirror_mode": {
    "name": "ipython",
    "version": 3
   },
   "file_extension": ".py",
   "mimetype": "text/x-python",
   "name": "python",
   "nbconvert_exporter": "python",
   "pygments_lexer": "ipython3",
   "version": "3.9.5"
  }
 },
 "nbformat": 4,
 "nbformat_minor": 5
}
