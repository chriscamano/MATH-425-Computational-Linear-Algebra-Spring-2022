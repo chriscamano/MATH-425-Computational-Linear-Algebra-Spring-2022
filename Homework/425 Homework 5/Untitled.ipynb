{
 "cells": [
  {
   "cell_type": "code",
   "execution_count": 25,
   "id": "8d103341",
   "metadata": {},
   "outputs": [],
   "source": [
    "import numpy as np\n",
    "import numpy.linalg as la\n",
    "from numpy import matmul as mult"
   ]
  },
  {
   "cell_type": "code",
   "execution_count": 15,
   "id": "9b9543d6",
   "metadata": {},
   "outputs": [],
   "source": [
    "A=np.vstack(([1,2,1],[0,1,-1],[1,3,0]))\n",
    "b=np.asarray([4,1,0])"
   ]
  },
  {
   "cell_type": "code",
   "execution_count": 73,
   "id": "158a55e9",
   "metadata": {},
   "outputs": [
    {
     "name": "stdout",
     "output_type": "stream",
     "text": [
      "[[ 1  2  1]\n",
      " [ 0  1 -1]\n",
      " [ 1  3  0]]\n",
      "[0.48484848 0.39393939 1.06060606]\n"
     ]
    }
   ],
   "source": [
    "print(A)\n",
    "U,S,V=la.svd(A,full_matrices=False)\n",
    "\n",
    "S=np.diag(S)\n",
    "S=np.delete(S, 2, 1)\n",
    "S=np.delete(S, 2, 0)\n",
    "V=V.T\n",
    "Vr = np.delete(V, 2, 1)\n",
    "Ur=np.delete(U,2,1)\n",
    "DI=la.inv(D)\n",
    "xhat=Vr@DI@Ur.T@b\n",
    "print(xhat)"
   ]
  },
  {
   "cell_type": "code",
   "execution_count": null,
   "id": "41d5e49d",
   "metadata": {},
   "outputs": [],
   "source": []
  },
  {
   "cell_type": "code",
   "execution_count": 74,
   "id": "9ec1cfbc",
   "metadata": {},
   "outputs": [
    {
     "name": "stdout",
     "output_type": "stream",
     "text": [
      "[ 2.33333333 -0.66666667  1.66666667]\n"
     ]
    }
   ],
   "source": [
    "print(mult(A,xhat))"
   ]
  },
  {
   "cell_type": "code",
   "execution_count": null,
   "id": "499a1cfe",
   "metadata": {},
   "outputs": [],
   "source": []
  }
 ],
 "metadata": {
  "kernelspec": {
   "display_name": "Python 3 (ipykernel)",
   "language": "python",
   "name": "python3"
  },
  "language_info": {
   "codemirror_mode": {
    "name": "ipython",
    "version": 3
   },
   "file_extension": ".py",
   "mimetype": "text/x-python",
   "name": "python",
   "nbconvert_exporter": "python",
   "pygments_lexer": "ipython3",
   "version": "3.9.5"
  }
 },
 "nbformat": 4,
 "nbformat_minor": 5
}
